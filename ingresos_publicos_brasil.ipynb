{
 "cells": [
  {
   "cell_type": "code",
   "execution_count": 40,
   "metadata": {},
   "outputs": [],
   "source": [
    "import pandas as pd\n",
    "pd.set_option('display.max_columns', None)\n",
    "import matplotlib.pyplot as plt\n",
    "import seaborn as sns\n",
    "import numpy as np\n",
    "from datetime import datetime"
   ]
  },
  {
   "cell_type": "code",
   "execution_count": 41,
   "metadata": {},
   "outputs": [],
   "source": [
    "datos_2013 = pd.read_csv('datos/datos-2013.csv', encoding='latin1',on_bad_lines='skip', sep=';')\n",
    "datos_2014 = pd.read_csv('datos/datos-2014.csv', encoding='latin1',on_bad_lines='skip', sep=';')\n",
    "datos_2015 = pd.read_csv('datos/datos-2015.csv', encoding='latin1',on_bad_lines='skip', sep=';')\n",
    "datos_2016 = pd.read_csv('datos/datos-2016.csv', encoding='latin1',on_bad_lines='skip', sep=';')\n",
    "datos_2017 = pd.read_csv('datos/datos-2017.csv', encoding='latin1',on_bad_lines='skip', sep=';')\n",
    "datos_2018 = pd.read_csv('datos/datos-2018.csv', encoding='latin1',on_bad_lines='skip', sep=';')\n",
    "datos_2019 = pd.read_csv('datos/datos-2019.csv', encoding='latin1',on_bad_lines='skip', sep=';')\n",
    "datos_2020 = pd.read_csv('datos/datos-2020.csv', encoding='latin1',on_bad_lines='skip', sep=';')\n",
    "datos_2021 = pd.read_csv('datos/datos-2021.csv', encoding='latin1',on_bad_lines='skip', sep=';')"
   ]
  },
  {
   "cell_type": "code",
   "execution_count": 42,
   "metadata": {},
   "outputs": [],
   "source": [
    "pd.options.display.float_format = '{:.0f}'.format\n"
   ]
  },
  {
   "cell_type": "code",
   "execution_count": 43,
   "metadata": {},
   "outputs": [
    {
     "data": {
      "text/html": [
       "<div>\n",
       "<style scoped>\n",
       "    .dataframe tbody tr th:only-of-type {\n",
       "        vertical-align: middle;\n",
       "    }\n",
       "\n",
       "    .dataframe tbody tr th {\n",
       "        vertical-align: top;\n",
       "    }\n",
       "\n",
       "    .dataframe thead th {\n",
       "        text-align: right;\n",
       "    }\n",
       "</style>\n",
       "<table border=\"1\" class=\"dataframe\">\n",
       "  <thead>\n",
       "    <tr style=\"text-align: right;\">\n",
       "      <th></th>\n",
       "      <th>CÓDIGO ÓRGÃO SUPERIOR</th>\n",
       "      <th>NOME ÓRGÃO SUPERIOR</th>\n",
       "      <th>CÓDIGO ÓRGÃO</th>\n",
       "      <th>NOME ÓRGÃO</th>\n",
       "      <th>CÓDIGO UNIDADE GESTORA</th>\n",
       "      <th>NOME UNIDADE GESTORA</th>\n",
       "      <th>CATEGORIA ECONÔMICA</th>\n",
       "      <th>ORIGEM RECEITA</th>\n",
       "      <th>ESPÉCIE RECEITA</th>\n",
       "      <th>DETALHAMENTO</th>\n",
       "      <th>VALOR PREVISTO ATUALIZADO</th>\n",
       "      <th>VALOR LANÇADO</th>\n",
       "      <th>VALOR REALIZADO</th>\n",
       "      <th>PERCENTUAL REALIZADO</th>\n",
       "      <th>DATA LANÇAMENTO</th>\n",
       "      <th>ANO EXERCÍCIO</th>\n",
       "    </tr>\n",
       "  </thead>\n",
       "  <tbody>\n",
       "    <tr>\n",
       "      <th>0</th>\n",
       "      <td>63000</td>\n",
       "      <td>Advocacia-Geral da União</td>\n",
       "      <td>63000</td>\n",
       "      <td>Advocacia-Geral da União - Unidades com víncul...</td>\n",
       "      <td>110060</td>\n",
       "      <td>COORD. GERAL DE ORC. FIN. E ANAL. CONT. - AGU</td>\n",
       "      <td>Receitas Correntes</td>\n",
       "      <td>Outras Receitas Correntes</td>\n",
       "      <td>Bens, Direitos e Valores Incorporados ao Patr</td>\n",
       "      <td>REC.DIVIDA ATIVA NAO TRIBUTARIA DE OUTRAS REC</td>\n",
       "      <td>0,00</td>\n",
       "      <td>0,00</td>\n",
       "      <td>1297,13</td>\n",
       "      <td>0,00</td>\n",
       "      <td>31/12/2013</td>\n",
       "      <td>2013</td>\n",
       "    </tr>\n",
       "    <tr>\n",
       "      <th>1</th>\n",
       "      <td>63000</td>\n",
       "      <td>Advocacia-Geral da União</td>\n",
       "      <td>63000</td>\n",
       "      <td>Advocacia-Geral da União - Unidades com víncul...</td>\n",
       "      <td>110060</td>\n",
       "      <td>COORD. GERAL DE ORC. FIN. E ANAL. CONT. - AGU</td>\n",
       "      <td>Receitas Correntes</td>\n",
       "      <td>Outras Receitas Correntes</td>\n",
       "      <td>Indenizações, restituições e ressarcimentos</td>\n",
       "      <td>RECUPERACAO DE DESPESAS DE EXERC. ANTERIORES</td>\n",
       "      <td>0,00</td>\n",
       "      <td>0,00</td>\n",
       "      <td>26666621,42</td>\n",
       "      <td>0,00</td>\n",
       "      <td>31/12/2013</td>\n",
       "      <td>2013</td>\n",
       "    </tr>\n",
       "    <tr>\n",
       "      <th>2</th>\n",
       "      <td>63000</td>\n",
       "      <td>Advocacia-Geral da União</td>\n",
       "      <td>63000</td>\n",
       "      <td>Advocacia-Geral da União - Unidades com víncul...</td>\n",
       "      <td>110060</td>\n",
       "      <td>COORD. GERAL DE ORC. FIN. E ANAL. CONT. - AGU</td>\n",
       "      <td>Receitas Correntes</td>\n",
       "      <td>Outras Receitas Correntes</td>\n",
       "      <td>Multas administrativas, contratuais e judicia</td>\n",
       "      <td>OUTRAS MULTAS E JUROS DE MORA</td>\n",
       "      <td>0,00</td>\n",
       "      <td>0,00</td>\n",
       "      <td>301251,13</td>\n",
       "      <td>0,00</td>\n",
       "      <td>31/12/2013</td>\n",
       "      <td>2013</td>\n",
       "    </tr>\n",
       "    <tr>\n",
       "      <th>3</th>\n",
       "      <td>63000</td>\n",
       "      <td>Advocacia-Geral da União</td>\n",
       "      <td>63000</td>\n",
       "      <td>Advocacia-Geral da União - Unidades com víncul...</td>\n",
       "      <td>110060</td>\n",
       "      <td>COORD. GERAL DE ORC. FIN. E ANAL. CONT. - AGU</td>\n",
       "      <td>Receitas Correntes</td>\n",
       "      <td>Outras Receitas Correntes</td>\n",
       "      <td>Bens, Direitos e Valores Incorporados ao Patr</td>\n",
       "      <td>REC.DIV.ATIVA POR INFRAÇÃO ADMINISTRATIVA</td>\n",
       "      <td>0,00</td>\n",
       "      <td>0,00</td>\n",
       "      <td>1855,58</td>\n",
       "      <td>0,00</td>\n",
       "      <td>31/12/2013</td>\n",
       "      <td>2013</td>\n",
       "    </tr>\n",
       "    <tr>\n",
       "      <th>4</th>\n",
       "      <td>63000</td>\n",
       "      <td>Advocacia-Geral da União</td>\n",
       "      <td>63000</td>\n",
       "      <td>Advocacia-Geral da União - Unidades com víncul...</td>\n",
       "      <td>110060</td>\n",
       "      <td>COORD. GERAL DE ORC. FIN. E ANAL. CONT. - AGU</td>\n",
       "      <td>Receitas Correntes</td>\n",
       "      <td>Outras Receitas Correntes</td>\n",
       "      <td>Indenizações, restituições e ressarcimentos</td>\n",
       "      <td>OUTRAS RESTITUICOES</td>\n",
       "      <td>0,00</td>\n",
       "      <td>0,00</td>\n",
       "      <td>52140,68</td>\n",
       "      <td>0,00</td>\n",
       "      <td>31/12/2013</td>\n",
       "      <td>2013</td>\n",
       "    </tr>\n",
       "  </tbody>\n",
       "</table>\n",
       "</div>"
      ],
      "text/plain": [
       "   CÓDIGO ÓRGÃO SUPERIOR       NOME ÓRGÃO SUPERIOR  CÓDIGO ÓRGÃO  \\\n",
       "0                  63000  Advocacia-Geral da União         63000   \n",
       "1                  63000  Advocacia-Geral da União         63000   \n",
       "2                  63000  Advocacia-Geral da União         63000   \n",
       "3                  63000  Advocacia-Geral da União         63000   \n",
       "4                  63000  Advocacia-Geral da União         63000   \n",
       "\n",
       "                                          NOME ÓRGÃO  CÓDIGO UNIDADE GESTORA  \\\n",
       "0  Advocacia-Geral da União - Unidades com víncul...                  110060   \n",
       "1  Advocacia-Geral da União - Unidades com víncul...                  110060   \n",
       "2  Advocacia-Geral da União - Unidades com víncul...                  110060   \n",
       "3  Advocacia-Geral da União - Unidades com víncul...                  110060   \n",
       "4  Advocacia-Geral da União - Unidades com víncul...                  110060   \n",
       "\n",
       "                            NOME UNIDADE GESTORA CATEGORIA ECONÔMICA  \\\n",
       "0  COORD. GERAL DE ORC. FIN. E ANAL. CONT. - AGU  Receitas Correntes   \n",
       "1  COORD. GERAL DE ORC. FIN. E ANAL. CONT. - AGU  Receitas Correntes   \n",
       "2  COORD. GERAL DE ORC. FIN. E ANAL. CONT. - AGU  Receitas Correntes   \n",
       "3  COORD. GERAL DE ORC. FIN. E ANAL. CONT. - AGU  Receitas Correntes   \n",
       "4  COORD. GERAL DE ORC. FIN. E ANAL. CONT. - AGU  Receitas Correntes   \n",
       "\n",
       "              ORIGEM RECEITA                                ESPÉCIE RECEITA  \\\n",
       "0  Outras Receitas Correntes  Bens, Direitos e Valores Incorporados ao Patr   \n",
       "1  Outras Receitas Correntes    Indenizações, restituições e ressarcimentos   \n",
       "2  Outras Receitas Correntes  Multas administrativas, contratuais e judicia   \n",
       "3  Outras Receitas Correntes  Bens, Direitos e Valores Incorporados ao Patr   \n",
       "4  Outras Receitas Correntes    Indenizações, restituições e ressarcimentos   \n",
       "\n",
       "                                    DETALHAMENTO VALOR PREVISTO ATUALIZADO  \\\n",
       "0  REC.DIVIDA ATIVA NAO TRIBUTARIA DE OUTRAS REC                      0,00   \n",
       "1   RECUPERACAO DE DESPESAS DE EXERC. ANTERIORES                      0,00   \n",
       "2                  OUTRAS MULTAS E JUROS DE MORA                      0,00   \n",
       "3      REC.DIV.ATIVA POR INFRAÇÃO ADMINISTRATIVA                      0,00   \n",
       "4                            OUTRAS RESTITUICOES                      0,00   \n",
       "\n",
       "  VALOR LANÇADO VALOR REALIZADO PERCENTUAL REALIZADO DATA LANÇAMENTO  \\\n",
       "0          0,00         1297,13                 0,00      31/12/2013   \n",
       "1          0,00     26666621,42                 0,00      31/12/2013   \n",
       "2          0,00       301251,13                 0,00      31/12/2013   \n",
       "3          0,00         1855,58                 0,00      31/12/2013   \n",
       "4          0,00        52140,68                 0,00      31/12/2013   \n",
       "\n",
       "   ANO EXERCÍCIO  \n",
       "0           2013  \n",
       "1           2013  \n",
       "2           2013  \n",
       "3           2013  \n",
       "4           2013  "
      ]
     },
     "execution_count": 43,
     "metadata": {},
     "output_type": "execute_result"
    }
   ],
   "source": [
    "datos_2013.head()"
   ]
  },
  {
   "cell_type": "code",
   "execution_count": 44,
   "metadata": {},
   "outputs": [
    {
     "name": "stdout",
     "output_type": "stream",
     "text": [
      "<class 'pandas.core.frame.DataFrame'>\n",
      "RangeIndex: 4498 entries, 0 to 4497\n",
      "Data columns (total 16 columns):\n",
      " #   Column                     Non-Null Count  Dtype \n",
      "---  ------                     --------------  ----- \n",
      " 0   CÓDIGO ÓRGÃO SUPERIOR      4498 non-null   int64 \n",
      " 1   NOME ÓRGÃO SUPERIOR        4498 non-null   object\n",
      " 2   CÓDIGO ÓRGÃO               4498 non-null   int64 \n",
      " 3   NOME ÓRGÃO                 4498 non-null   object\n",
      " 4   CÓDIGO UNIDADE GESTORA     4498 non-null   int64 \n",
      " 5   NOME UNIDADE GESTORA       4498 non-null   object\n",
      " 6   CATEGORIA ECONÔMICA        4498 non-null   object\n",
      " 7   ORIGEM RECEITA             4498 non-null   object\n",
      " 8   ESPÉCIE RECEITA            4498 non-null   object\n",
      " 9   DETALHAMENTO               4498 non-null   object\n",
      " 10  VALOR PREVISTO ATUALIZADO  4498 non-null   object\n",
      " 11  VALOR LANÇADO              4498 non-null   object\n",
      " 12  VALOR REALIZADO            4498 non-null   object\n",
      " 13  PERCENTUAL REALIZADO       4498 non-null   object\n",
      " 14  DATA LANÇAMENTO            4498 non-null   object\n",
      " 15  ANO EXERCÍCIO              4498 non-null   int64 \n",
      "dtypes: int64(4), object(12)\n",
      "memory usage: 562.4+ KB\n"
     ]
    }
   ],
   "source": [
    "datos_2013.info()"
   ]
  },
  {
   "cell_type": "code",
   "execution_count": 45,
   "metadata": {},
   "outputs": [
    {
     "data": {
      "text/plain": [
       "Index(['CÓDIGO ÓRGÃO SUPERIOR', 'NOME ÓRGÃO SUPERIOR', 'CÓDIGO ÓRGÃO',\n",
       "       'NOME ÓRGÃO', 'CÓDIGO UNIDADE GESTORA', 'NOME UNIDADE GESTORA',\n",
       "       'CATEGORIA ECONÔMICA', 'ORIGEM RECEITA', 'ESPÉCIE RECEITA',\n",
       "       'DETALHAMENTO', 'VALOR PREVISTO ATUALIZADO', 'VALOR LANÇADO',\n",
       "       'VALOR REALIZADO', 'PERCENTUAL REALIZADO', 'DATA LANÇAMENTO',\n",
       "       'ANO EXERCÍCIO'],\n",
       "      dtype='object')"
      ]
     },
     "execution_count": 45,
     "metadata": {},
     "output_type": "execute_result"
    }
   ],
   "source": [
    "datos_2013.columns"
   ]
  },
  {
   "cell_type": "code",
   "execution_count": 46,
   "metadata": {},
   "outputs": [],
   "source": [
    "columnas_traducidas = [\n",
    "    'codigo_organo_superior',\n",
    "    'nombre_organo_superior',\n",
    "    'codigo_organo',\n",
    "    'nombre_organo',\n",
    "    'codigo_unidad_gestora',\n",
    "    'nombre_unidad_gestora',\n",
    "    'categoria_economica',\n",
    "    'origen_ingreso',\n",
    "    'especie_ingreso',\n",
    "    'detallamiento',\n",
    "    'valor_previsto_actualizado',\n",
    "    'valor_lanzado',\n",
    "    'valor_realizado',\n",
    "    'porcentaje_realizado',\n",
    "    'fecha_lanzamiento',\n",
    "    'ano_ejercicio'\n",
    "]"
   ]
  },
  {
   "cell_type": "code",
   "execution_count": 47,
   "metadata": {},
   "outputs": [],
   "source": [
    "datos_2013.columns = columnas_traducidas\n",
    "datos_2014.columns = columnas_traducidas\n",
    "datos_2015.columns = columnas_traducidas\n",
    "datos_2016.columns = columnas_traducidas\n",
    "datos_2017.columns = columnas_traducidas\n",
    "datos_2018.columns = columnas_traducidas\n",
    "datos_2019.columns = columnas_traducidas\n",
    "datos_2020.columns = columnas_traducidas\n",
    "datos_2021.columns = columnas_traducidas"
   ]
  },
  {
   "cell_type": "code",
   "execution_count": 48,
   "metadata": {},
   "outputs": [
    {
     "name": "stdout",
     "output_type": "stream",
     "text": [
      "<class 'pandas.core.frame.DataFrame'>\n",
      "RangeIndex: 4498 entries, 0 to 4497\n",
      "Data columns (total 16 columns):\n",
      " #   Column                      Non-Null Count  Dtype \n",
      "---  ------                      --------------  ----- \n",
      " 0   codigo_organo_superior      4498 non-null   int64 \n",
      " 1   nombre_organo_superior      4498 non-null   object\n",
      " 2   codigo_organo               4498 non-null   int64 \n",
      " 3   nombre_organo               4498 non-null   object\n",
      " 4   codigo_unidad_gestora       4498 non-null   int64 \n",
      " 5   nombre_unidad_gestora       4498 non-null   object\n",
      " 6   categoria_economica         4498 non-null   object\n",
      " 7   origen_ingreso              4498 non-null   object\n",
      " 8   especie_ingreso             4498 non-null   object\n",
      " 9   detallamiento               4498 non-null   object\n",
      " 10  valor_previsto_actualizado  4498 non-null   object\n",
      " 11  valor_lanzado               4498 non-null   object\n",
      " 12  valor_realizado             4498 non-null   object\n",
      " 13  porcentaje_realizado        4498 non-null   object\n",
      " 14  fecha_lanzamiento           4498 non-null   object\n",
      " 15  ano_ejercicio               4498 non-null   int64 \n",
      "dtypes: int64(4), object(12)\n",
      "memory usage: 562.4+ KB\n"
     ]
    }
   ],
   "source": [
    "datos_2013.info()"
   ]
  },
  {
   "cell_type": "code",
   "execution_count": 49,
   "metadata": {},
   "outputs": [
    {
     "name": "stdout",
     "output_type": "stream",
     "text": [
      "<class 'pandas.core.frame.DataFrame'>\n",
      "RangeIndex: 4553 entries, 0 to 4552\n",
      "Data columns (total 16 columns):\n",
      " #   Column                      Non-Null Count  Dtype \n",
      "---  ------                      --------------  ----- \n",
      " 0   codigo_organo_superior      4553 non-null   int64 \n",
      " 1   nombre_organo_superior      4553 non-null   object\n",
      " 2   codigo_organo               4553 non-null   int64 \n",
      " 3   nombre_organo               4553 non-null   object\n",
      " 4   codigo_unidad_gestora       4553 non-null   int64 \n",
      " 5   nombre_unidad_gestora       4553 non-null   object\n",
      " 6   categoria_economica         4553 non-null   object\n",
      " 7   origen_ingreso              4553 non-null   object\n",
      " 8   especie_ingreso             4553 non-null   object\n",
      " 9   detallamiento               4553 non-null   object\n",
      " 10  valor_previsto_actualizado  4553 non-null   object\n",
      " 11  valor_lanzado               4553 non-null   object\n",
      " 12  valor_realizado             4553 non-null   object\n",
      " 13  porcentaje_realizado        4553 non-null   object\n",
      " 14  fecha_lanzamiento           4553 non-null   object\n",
      " 15  ano_ejercicio               4553 non-null   int64 \n",
      "dtypes: int64(4), object(12)\n",
      "memory usage: 569.2+ KB\n"
     ]
    }
   ],
   "source": [
    "datos_2014.info()"
   ]
  },
  {
   "cell_type": "code",
   "execution_count": 50,
   "metadata": {},
   "outputs": [
    {
     "name": "stdout",
     "output_type": "stream",
     "text": [
      "<class 'pandas.core.frame.DataFrame'>\n",
      "RangeIndex: 4523 entries, 0 to 4522\n",
      "Data columns (total 16 columns):\n",
      " #   Column                      Non-Null Count  Dtype \n",
      "---  ------                      --------------  ----- \n",
      " 0   codigo_organo_superior      4523 non-null   int64 \n",
      " 1   nombre_organo_superior      4523 non-null   object\n",
      " 2   codigo_organo               4523 non-null   int64 \n",
      " 3   nombre_organo               4523 non-null   object\n",
      " 4   codigo_unidad_gestora       4523 non-null   int64 \n",
      " 5   nombre_unidad_gestora       4523 non-null   object\n",
      " 6   categoria_economica         4523 non-null   object\n",
      " 7   origen_ingreso              4523 non-null   object\n",
      " 8   especie_ingreso             4523 non-null   object\n",
      " 9   detallamiento               4523 non-null   object\n",
      " 10  valor_previsto_actualizado  4523 non-null   object\n",
      " 11  valor_lanzado               4523 non-null   object\n",
      " 12  valor_realizado             4523 non-null   object\n",
      " 13  porcentaje_realizado        4523 non-null   object\n",
      " 14  fecha_lanzamiento           4523 non-null   object\n",
      " 15  ano_ejercicio               4523 non-null   int64 \n",
      "dtypes: int64(4), object(12)\n",
      "memory usage: 565.5+ KB\n"
     ]
    }
   ],
   "source": [
    "datos_2015.info()"
   ]
  },
  {
   "cell_type": "code",
   "execution_count": 51,
   "metadata": {},
   "outputs": [],
   "source": [
    "df_final = pd.concat([datos_2013,datos_2014,datos_2015,datos_2016,datos_2017,datos_2018,datos_2019,datos_2020,datos_2021])"
   ]
  },
  {
   "cell_type": "code",
   "execution_count": 52,
   "metadata": {},
   "outputs": [
    {
     "name": "stdout",
     "output_type": "stream",
     "text": [
      "<class 'pandas.core.frame.DataFrame'>\n",
      "Index: 1026299 entries, 0 to 134592\n",
      "Data columns (total 16 columns):\n",
      " #   Column                      Non-Null Count    Dtype \n",
      "---  ------                      --------------    ----- \n",
      " 0   codigo_organo_superior      1026299 non-null  int64 \n",
      " 1   nombre_organo_superior      1026299 non-null  object\n",
      " 2   codigo_organo               1026299 non-null  int64 \n",
      " 3   nombre_organo               1026299 non-null  object\n",
      " 4   codigo_unidad_gestora       1026299 non-null  int64 \n",
      " 5   nombre_unidad_gestora       1026299 non-null  object\n",
      " 6   categoria_economica         1026299 non-null  object\n",
      " 7   origen_ingreso              1026299 non-null  object\n",
      " 8   especie_ingreso             1026299 non-null  object\n",
      " 9   detallamiento               1026299 non-null  object\n",
      " 10  valor_previsto_actualizado  1026299 non-null  object\n",
      " 11  valor_lanzado               1026299 non-null  object\n",
      " 12  valor_realizado             1026299 non-null  object\n",
      " 13  porcentaje_realizado        1026299 non-null  object\n",
      " 14  fecha_lanzamiento           1025721 non-null  object\n",
      " 15  ano_ejercicio               1026299 non-null  int64 \n",
      "dtypes: int64(4), object(12)\n",
      "memory usage: 133.1+ MB\n"
     ]
    }
   ],
   "source": [
    "df_final.info()"
   ]
  },
  {
   "cell_type": "code",
   "execution_count": 53,
   "metadata": {},
   "outputs": [
    {
     "name": "stdout",
     "output_type": "stream",
     "text": [
      "<class 'pandas.core.frame.DataFrame'>\n",
      "RangeIndex: 194533 entries, 0 to 194532\n",
      "Data columns (total 16 columns):\n",
      " #   Column                      Non-Null Count   Dtype \n",
      "---  ------                      --------------   ----- \n",
      " 0   codigo_organo_superior      194533 non-null  int64 \n",
      " 1   nombre_organo_superior      194533 non-null  object\n",
      " 2   codigo_organo               194533 non-null  int64 \n",
      " 3   nombre_organo               194533 non-null  object\n",
      " 4   codigo_unidad_gestora       194533 non-null  int64 \n",
      " 5   nombre_unidad_gestora       194533 non-null  object\n",
      " 6   categoria_economica         194533 non-null  object\n",
      " 7   origen_ingreso              194533 non-null  object\n",
      " 8   especie_ingreso             194533 non-null  object\n",
      " 9   detallamiento               194533 non-null  object\n",
      " 10  valor_previsto_actualizado  194533 non-null  object\n",
      " 11  valor_lanzado               194533 non-null  object\n",
      " 12  valor_realizado             194533 non-null  object\n",
      " 13  porcentaje_realizado        194533 non-null  object\n",
      " 14  fecha_lanzamiento           194451 non-null  object\n",
      " 15  ano_ejercicio               194533 non-null  int64 \n",
      "dtypes: int64(4), object(12)\n",
      "memory usage: 23.7+ MB\n"
     ]
    }
   ],
   "source": [
    "datos_2016.info()"
   ]
  },
  {
   "cell_type": "code",
   "execution_count": 54,
   "metadata": {},
   "outputs": [
    {
     "name": "stdout",
     "output_type": "stream",
     "text": [
      "<class 'pandas.core.frame.DataFrame'>\n",
      "RangeIndex: 190479 entries, 0 to 190478\n",
      "Data columns (total 16 columns):\n",
      " #   Column                      Non-Null Count   Dtype \n",
      "---  ------                      --------------   ----- \n",
      " 0   codigo_organo_superior      190479 non-null  int64 \n",
      " 1   nombre_organo_superior      190479 non-null  object\n",
      " 2   codigo_organo               190479 non-null  int64 \n",
      " 3   nombre_organo               190479 non-null  object\n",
      " 4   codigo_unidad_gestora       190479 non-null  int64 \n",
      " 5   nombre_unidad_gestora       190479 non-null  object\n",
      " 6   categoria_economica         190479 non-null  object\n",
      " 7   origen_ingreso              190479 non-null  object\n",
      " 8   especie_ingreso             190479 non-null  object\n",
      " 9   detallamiento               190479 non-null  object\n",
      " 10  valor_previsto_actualizado  190479 non-null  object\n",
      " 11  valor_lanzado               190479 non-null  object\n",
      " 12  valor_realizado             190479 non-null  object\n",
      " 13  porcentaje_realizado        190479 non-null  object\n",
      " 14  fecha_lanzamiento           190393 non-null  object\n",
      " 15  ano_ejercicio               190479 non-null  int64 \n",
      "dtypes: int64(4), object(12)\n",
      "memory usage: 23.3+ MB\n"
     ]
    }
   ],
   "source": [
    "datos_2017.info()"
   ]
  },
  {
   "cell_type": "code",
   "execution_count": 55,
   "metadata": {},
   "outputs": [
    {
     "name": "stdout",
     "output_type": "stream",
     "text": [
      "<class 'pandas.core.frame.DataFrame'>\n",
      "RangeIndex: 173944 entries, 0 to 173943\n",
      "Data columns (total 16 columns):\n",
      " #   Column                      Non-Null Count   Dtype \n",
      "---  ------                      --------------   ----- \n",
      " 0   codigo_organo_superior      173944 non-null  int64 \n",
      " 1   nombre_organo_superior      173944 non-null  object\n",
      " 2   codigo_organo               173944 non-null  int64 \n",
      " 3   nombre_organo               173944 non-null  object\n",
      " 4   codigo_unidad_gestora       173944 non-null  int64 \n",
      " 5   nombre_unidad_gestora       173944 non-null  object\n",
      " 6   categoria_economica         173944 non-null  object\n",
      " 7   origen_ingreso              173944 non-null  object\n",
      " 8   especie_ingreso             173944 non-null  object\n",
      " 9   detallamiento               173944 non-null  object\n",
      " 10  valor_previsto_actualizado  173944 non-null  object\n",
      " 11  valor_lanzado               173944 non-null  object\n",
      " 12  valor_realizado             173944 non-null  object\n",
      " 13  porcentaje_realizado        173944 non-null  object\n",
      " 14  fecha_lanzamiento           173829 non-null  object\n",
      " 15  ano_ejercicio               173944 non-null  int64 \n",
      "dtypes: int64(4), object(12)\n",
      "memory usage: 21.2+ MB\n"
     ]
    }
   ],
   "source": [
    "datos_2018.info()"
   ]
  },
  {
   "cell_type": "code",
   "execution_count": 56,
   "metadata": {},
   "outputs": [
    {
     "name": "stdout",
     "output_type": "stream",
     "text": [
      "<class 'pandas.core.frame.DataFrame'>\n",
      "RangeIndex: 142348 entries, 0 to 142347\n",
      "Data columns (total 16 columns):\n",
      " #   Column                      Non-Null Count   Dtype \n",
      "---  ------                      --------------   ----- \n",
      " 0   codigo_organo_superior      142348 non-null  int64 \n",
      " 1   nombre_organo_superior      142348 non-null  object\n",
      " 2   codigo_organo               142348 non-null  int64 \n",
      " 3   nombre_organo               142348 non-null  object\n",
      " 4   codigo_unidad_gestora       142348 non-null  int64 \n",
      " 5   nombre_unidad_gestora       142348 non-null  object\n",
      " 6   categoria_economica         142348 non-null  object\n",
      " 7   origen_ingreso              142348 non-null  object\n",
      " 8   especie_ingreso             142348 non-null  object\n",
      " 9   detallamiento               142348 non-null  object\n",
      " 10  valor_previsto_actualizado  142348 non-null  object\n",
      " 11  valor_lanzado               142348 non-null  object\n",
      " 12  valor_realizado             142348 non-null  object\n",
      " 13  porcentaje_realizado        142348 non-null  object\n",
      " 14  fecha_lanzamiento           142262 non-null  object\n",
      " 15  ano_ejercicio               142348 non-null  int64 \n",
      "dtypes: int64(4), object(12)\n",
      "memory usage: 17.4+ MB\n"
     ]
    }
   ],
   "source": [
    "datos_2020.info()"
   ]
  },
  {
   "cell_type": "code",
   "execution_count": 57,
   "metadata": {},
   "outputs": [
    {
     "name": "stdout",
     "output_type": "stream",
     "text": [
      "<class 'pandas.core.frame.DataFrame'>\n",
      "RangeIndex: 134593 entries, 0 to 134592\n",
      "Data columns (total 16 columns):\n",
      " #   Column                      Non-Null Count   Dtype \n",
      "---  ------                      --------------   ----- \n",
      " 0   codigo_organo_superior      134593 non-null  int64 \n",
      " 1   nombre_organo_superior      134593 non-null  object\n",
      " 2   codigo_organo               134593 non-null  int64 \n",
      " 3   nombre_organo               134593 non-null  object\n",
      " 4   codigo_unidad_gestora       134593 non-null  int64 \n",
      " 5   nombre_unidad_gestora       134593 non-null  object\n",
      " 6   categoria_economica         134593 non-null  object\n",
      " 7   origen_ingreso              134593 non-null  object\n",
      " 8   especie_ingreso             134593 non-null  object\n",
      " 9   detallamiento               134593 non-null  object\n",
      " 10  valor_previsto_actualizado  134593 non-null  object\n",
      " 11  valor_lanzado               134593 non-null  object\n",
      " 12  valor_realizado             134593 non-null  object\n",
      " 13  porcentaje_realizado        134593 non-null  object\n",
      " 14  fecha_lanzamiento           134470 non-null  object\n",
      " 15  ano_ejercicio               134593 non-null  int64 \n",
      "dtypes: int64(4), object(12)\n",
      "memory usage: 16.4+ MB\n"
     ]
    }
   ],
   "source": [
    "datos_2021.info()"
   ]
  },
  {
   "cell_type": "code",
   "execution_count": 58,
   "metadata": {},
   "outputs": [],
   "source": [
    "df_final['fecha_lanzamiento'] = pd.to_datetime(df_final['fecha_lanzamiento'], dayfirst=True)"
   ]
  },
  {
   "cell_type": "code",
   "execution_count": 59,
   "metadata": {},
   "outputs": [],
   "source": [
    "df_final['fecha_lanzamiento'] = df_final['fecha_lanzamiento'].ffill()"
   ]
  },
  {
   "cell_type": "markdown",
   "metadata": {},
   "source": [
    "He utilizado el método Forward Fill para rellenar los valores nulos con el siguiente valor no nulo en la columna"
   ]
  },
  {
   "cell_type": "code",
   "execution_count": 60,
   "metadata": {},
   "outputs": [
    {
     "name": "stdout",
     "output_type": "stream",
     "text": [
      "<class 'pandas.core.frame.DataFrame'>\n",
      "Index: 1026299 entries, 0 to 134592\n",
      "Data columns (total 16 columns):\n",
      " #   Column                      Non-Null Count    Dtype         \n",
      "---  ------                      --------------    -----         \n",
      " 0   codigo_organo_superior      1026299 non-null  int64         \n",
      " 1   nombre_organo_superior      1026299 non-null  object        \n",
      " 2   codigo_organo               1026299 non-null  int64         \n",
      " 3   nombre_organo               1026299 non-null  object        \n",
      " 4   codigo_unidad_gestora       1026299 non-null  int64         \n",
      " 5   nombre_unidad_gestora       1026299 non-null  object        \n",
      " 6   categoria_economica         1026299 non-null  object        \n",
      " 7   origen_ingreso              1026299 non-null  object        \n",
      " 8   especie_ingreso             1026299 non-null  object        \n",
      " 9   detallamiento               1026299 non-null  object        \n",
      " 10  valor_previsto_actualizado  1026299 non-null  object        \n",
      " 11  valor_lanzado               1026299 non-null  object        \n",
      " 12  valor_realizado             1026299 non-null  object        \n",
      " 13  porcentaje_realizado        1026299 non-null  object        \n",
      " 14  fecha_lanzamiento           1026299 non-null  datetime64[ns]\n",
      " 15  ano_ejercicio               1026299 non-null  int64         \n",
      "dtypes: datetime64[ns](1), int64(4), object(11)\n",
      "memory usage: 133.1+ MB\n"
     ]
    }
   ],
   "source": [
    "df_final.info()"
   ]
  },
  {
   "cell_type": "code",
   "execution_count": 61,
   "metadata": {},
   "outputs": [
    {
     "data": {
      "text/html": [
       "<div>\n",
       "<style scoped>\n",
       "    .dataframe tbody tr th:only-of-type {\n",
       "        vertical-align: middle;\n",
       "    }\n",
       "\n",
       "    .dataframe tbody tr th {\n",
       "        vertical-align: top;\n",
       "    }\n",
       "\n",
       "    .dataframe thead th {\n",
       "        text-align: right;\n",
       "    }\n",
       "</style>\n",
       "<table border=\"1\" class=\"dataframe\">\n",
       "  <thead>\n",
       "    <tr style=\"text-align: right;\">\n",
       "      <th></th>\n",
       "      <th>codigo_organo_superior</th>\n",
       "      <th>nombre_organo_superior</th>\n",
       "      <th>codigo_organo</th>\n",
       "      <th>nombre_organo</th>\n",
       "      <th>codigo_unidad_gestora</th>\n",
       "      <th>nombre_unidad_gestora</th>\n",
       "      <th>categoria_economica</th>\n",
       "      <th>origen_ingreso</th>\n",
       "      <th>especie_ingreso</th>\n",
       "      <th>detallamiento</th>\n",
       "      <th>valor_previsto_actualizado</th>\n",
       "      <th>valor_lanzado</th>\n",
       "      <th>valor_realizado</th>\n",
       "      <th>porcentaje_realizado</th>\n",
       "      <th>fecha_lanzamiento</th>\n",
       "      <th>ano_ejercicio</th>\n",
       "    </tr>\n",
       "  </thead>\n",
       "  <tbody>\n",
       "    <tr>\n",
       "      <th>0</th>\n",
       "      <td>63000</td>\n",
       "      <td>Advocacia-Geral da União</td>\n",
       "      <td>63000</td>\n",
       "      <td>Advocacia-Geral da União - Unidades com víncul...</td>\n",
       "      <td>110060</td>\n",
       "      <td>COORD. GERAL DE ORC. FIN. E ANAL. CONT. - AGU</td>\n",
       "      <td>Receitas Correntes</td>\n",
       "      <td>Outras Receitas Correntes</td>\n",
       "      <td>Bens, Direitos e Valores Incorporados ao Patr</td>\n",
       "      <td>REC.DIVIDA ATIVA NAO TRIBUTARIA DE OUTRAS REC</td>\n",
       "      <td>0,00</td>\n",
       "      <td>0,00</td>\n",
       "      <td>1297,13</td>\n",
       "      <td>0,00</td>\n",
       "      <td>2013-12-31</td>\n",
       "      <td>2013</td>\n",
       "    </tr>\n",
       "    <tr>\n",
       "      <th>1</th>\n",
       "      <td>63000</td>\n",
       "      <td>Advocacia-Geral da União</td>\n",
       "      <td>63000</td>\n",
       "      <td>Advocacia-Geral da União - Unidades com víncul...</td>\n",
       "      <td>110060</td>\n",
       "      <td>COORD. GERAL DE ORC. FIN. E ANAL. CONT. - AGU</td>\n",
       "      <td>Receitas Correntes</td>\n",
       "      <td>Outras Receitas Correntes</td>\n",
       "      <td>Indenizações, restituições e ressarcimentos</td>\n",
       "      <td>RECUPERACAO DE DESPESAS DE EXERC. ANTERIORES</td>\n",
       "      <td>0,00</td>\n",
       "      <td>0,00</td>\n",
       "      <td>26666621,42</td>\n",
       "      <td>0,00</td>\n",
       "      <td>2013-12-31</td>\n",
       "      <td>2013</td>\n",
       "    </tr>\n",
       "    <tr>\n",
       "      <th>2</th>\n",
       "      <td>63000</td>\n",
       "      <td>Advocacia-Geral da União</td>\n",
       "      <td>63000</td>\n",
       "      <td>Advocacia-Geral da União - Unidades com víncul...</td>\n",
       "      <td>110060</td>\n",
       "      <td>COORD. GERAL DE ORC. FIN. E ANAL. CONT. - AGU</td>\n",
       "      <td>Receitas Correntes</td>\n",
       "      <td>Outras Receitas Correntes</td>\n",
       "      <td>Multas administrativas, contratuais e judicia</td>\n",
       "      <td>OUTRAS MULTAS E JUROS DE MORA</td>\n",
       "      <td>0,00</td>\n",
       "      <td>0,00</td>\n",
       "      <td>301251,13</td>\n",
       "      <td>0,00</td>\n",
       "      <td>2013-12-31</td>\n",
       "      <td>2013</td>\n",
       "    </tr>\n",
       "    <tr>\n",
       "      <th>3</th>\n",
       "      <td>63000</td>\n",
       "      <td>Advocacia-Geral da União</td>\n",
       "      <td>63000</td>\n",
       "      <td>Advocacia-Geral da União - Unidades com víncul...</td>\n",
       "      <td>110060</td>\n",
       "      <td>COORD. GERAL DE ORC. FIN. E ANAL. CONT. - AGU</td>\n",
       "      <td>Receitas Correntes</td>\n",
       "      <td>Outras Receitas Correntes</td>\n",
       "      <td>Bens, Direitos e Valores Incorporados ao Patr</td>\n",
       "      <td>REC.DIV.ATIVA POR INFRAÇÃO ADMINISTRATIVA</td>\n",
       "      <td>0,00</td>\n",
       "      <td>0,00</td>\n",
       "      <td>1855,58</td>\n",
       "      <td>0,00</td>\n",
       "      <td>2013-12-31</td>\n",
       "      <td>2013</td>\n",
       "    </tr>\n",
       "    <tr>\n",
       "      <th>4</th>\n",
       "      <td>63000</td>\n",
       "      <td>Advocacia-Geral da União</td>\n",
       "      <td>63000</td>\n",
       "      <td>Advocacia-Geral da União - Unidades com víncul...</td>\n",
       "      <td>110060</td>\n",
       "      <td>COORD. GERAL DE ORC. FIN. E ANAL. CONT. - AGU</td>\n",
       "      <td>Receitas Correntes</td>\n",
       "      <td>Outras Receitas Correntes</td>\n",
       "      <td>Indenizações, restituições e ressarcimentos</td>\n",
       "      <td>OUTRAS RESTITUICOES</td>\n",
       "      <td>0,00</td>\n",
       "      <td>0,00</td>\n",
       "      <td>52140,68</td>\n",
       "      <td>0,00</td>\n",
       "      <td>2013-12-31</td>\n",
       "      <td>2013</td>\n",
       "    </tr>\n",
       "  </tbody>\n",
       "</table>\n",
       "</div>"
      ],
      "text/plain": [
       "   codigo_organo_superior    nombre_organo_superior  codigo_organo  \\\n",
       "0                   63000  Advocacia-Geral da União          63000   \n",
       "1                   63000  Advocacia-Geral da União          63000   \n",
       "2                   63000  Advocacia-Geral da União          63000   \n",
       "3                   63000  Advocacia-Geral da União          63000   \n",
       "4                   63000  Advocacia-Geral da União          63000   \n",
       "\n",
       "                                       nombre_organo  codigo_unidad_gestora  \\\n",
       "0  Advocacia-Geral da União - Unidades com víncul...                 110060   \n",
       "1  Advocacia-Geral da União - Unidades com víncul...                 110060   \n",
       "2  Advocacia-Geral da União - Unidades com víncul...                 110060   \n",
       "3  Advocacia-Geral da União - Unidades com víncul...                 110060   \n",
       "4  Advocacia-Geral da União - Unidades com víncul...                 110060   \n",
       "\n",
       "                           nombre_unidad_gestora categoria_economica  \\\n",
       "0  COORD. GERAL DE ORC. FIN. E ANAL. CONT. - AGU  Receitas Correntes   \n",
       "1  COORD. GERAL DE ORC. FIN. E ANAL. CONT. - AGU  Receitas Correntes   \n",
       "2  COORD. GERAL DE ORC. FIN. E ANAL. CONT. - AGU  Receitas Correntes   \n",
       "3  COORD. GERAL DE ORC. FIN. E ANAL. CONT. - AGU  Receitas Correntes   \n",
       "4  COORD. GERAL DE ORC. FIN. E ANAL. CONT. - AGU  Receitas Correntes   \n",
       "\n",
       "              origen_ingreso                                especie_ingreso  \\\n",
       "0  Outras Receitas Correntes  Bens, Direitos e Valores Incorporados ao Patr   \n",
       "1  Outras Receitas Correntes    Indenizações, restituições e ressarcimentos   \n",
       "2  Outras Receitas Correntes  Multas administrativas, contratuais e judicia   \n",
       "3  Outras Receitas Correntes  Bens, Direitos e Valores Incorporados ao Patr   \n",
       "4  Outras Receitas Correntes    Indenizações, restituições e ressarcimentos   \n",
       "\n",
       "                                   detallamiento valor_previsto_actualizado  \\\n",
       "0  REC.DIVIDA ATIVA NAO TRIBUTARIA DE OUTRAS REC                       0,00   \n",
       "1   RECUPERACAO DE DESPESAS DE EXERC. ANTERIORES                       0,00   \n",
       "2                  OUTRAS MULTAS E JUROS DE MORA                       0,00   \n",
       "3      REC.DIV.ATIVA POR INFRAÇÃO ADMINISTRATIVA                       0,00   \n",
       "4                            OUTRAS RESTITUICOES                       0,00   \n",
       "\n",
       "  valor_lanzado valor_realizado porcentaje_realizado fecha_lanzamiento  \\\n",
       "0          0,00         1297,13                 0,00        2013-12-31   \n",
       "1          0,00     26666621,42                 0,00        2013-12-31   \n",
       "2          0,00       301251,13                 0,00        2013-12-31   \n",
       "3          0,00         1855,58                 0,00        2013-12-31   \n",
       "4          0,00        52140,68                 0,00        2013-12-31   \n",
       "\n",
       "   ano_ejercicio  \n",
       "0           2013  \n",
       "1           2013  \n",
       "2           2013  \n",
       "3           2013  \n",
       "4           2013  "
      ]
     },
     "execution_count": 61,
     "metadata": {},
     "output_type": "execute_result"
    }
   ],
   "source": [
    "df_final.head(5)"
   ]
  },
  {
   "cell_type": "code",
   "execution_count": 62,
   "metadata": {},
   "outputs": [],
   "source": [
    "df_final['valor_previsto_actualizado'] = df_final['valor_previsto_actualizado'].str.replace(',', '.', regex=False).astype(float)"
   ]
  },
  {
   "cell_type": "code",
   "execution_count": 63,
   "metadata": {},
   "outputs": [],
   "source": [
    "df_final['valor_lanzado'] = df_final['valor_lanzado'].str.replace(',', '.', regex=False).astype(float)"
   ]
  },
  {
   "cell_type": "code",
   "execution_count": 64,
   "metadata": {},
   "outputs": [],
   "source": [
    "df_final['valor_realizado'] = df_final['valor_realizado'].str.replace(',', '.', regex=False).astype(float)"
   ]
  },
  {
   "cell_type": "code",
   "execution_count": 65,
   "metadata": {},
   "outputs": [],
   "source": [
    "df_final['porcentaje_realizado'] = df_final['porcentaje_realizado'].str.replace(',', '.', regex=False).astype(float)"
   ]
  },
  {
   "cell_type": "code",
   "execution_count": 66,
   "metadata": {},
   "outputs": [
    {
     "name": "stdout",
     "output_type": "stream",
     "text": [
      "<class 'pandas.core.frame.DataFrame'>\n",
      "Index: 1026299 entries, 0 to 134592\n",
      "Data columns (total 16 columns):\n",
      " #   Column                      Non-Null Count    Dtype         \n",
      "---  ------                      --------------    -----         \n",
      " 0   codigo_organo_superior      1026299 non-null  int64         \n",
      " 1   nombre_organo_superior      1026299 non-null  object        \n",
      " 2   codigo_organo               1026299 non-null  int64         \n",
      " 3   nombre_organo               1026299 non-null  object        \n",
      " 4   codigo_unidad_gestora       1026299 non-null  int64         \n",
      " 5   nombre_unidad_gestora       1026299 non-null  object        \n",
      " 6   categoria_economica         1026299 non-null  object        \n",
      " 7   origen_ingreso              1026299 non-null  object        \n",
      " 8   especie_ingreso             1026299 non-null  object        \n",
      " 9   detallamiento               1026299 non-null  object        \n",
      " 10  valor_previsto_actualizado  1026299 non-null  float64       \n",
      " 11  valor_lanzado               1026299 non-null  float64       \n",
      " 12  valor_realizado             1026299 non-null  float64       \n",
      " 13  porcentaje_realizado        1026299 non-null  float64       \n",
      " 14  fecha_lanzamiento           1026299 non-null  datetime64[ns]\n",
      " 15  ano_ejercicio               1026299 non-null  int64         \n",
      "dtypes: datetime64[ns](1), float64(4), int64(4), object(7)\n",
      "memory usage: 133.1+ MB\n"
     ]
    }
   ],
   "source": [
    "df_final.info()"
   ]
  },
  {
   "cell_type": "code",
   "execution_count": 67,
   "metadata": {},
   "outputs": [
    {
     "data": {
      "text/html": [
       "<div>\n",
       "<style scoped>\n",
       "    .dataframe tbody tr th:only-of-type {\n",
       "        vertical-align: middle;\n",
       "    }\n",
       "\n",
       "    .dataframe tbody tr th {\n",
       "        vertical-align: top;\n",
       "    }\n",
       "\n",
       "    .dataframe thead th {\n",
       "        text-align: right;\n",
       "    }\n",
       "</style>\n",
       "<table border=\"1\" class=\"dataframe\">\n",
       "  <thead>\n",
       "    <tr style=\"text-align: right;\">\n",
       "      <th></th>\n",
       "      <th>count</th>\n",
       "      <th>mean</th>\n",
       "      <th>min</th>\n",
       "      <th>25%</th>\n",
       "      <th>50%</th>\n",
       "      <th>75%</th>\n",
       "      <th>max</th>\n",
       "      <th>std</th>\n",
       "    </tr>\n",
       "  </thead>\n",
       "  <tbody>\n",
       "    <tr>\n",
       "      <th>codigo_organo_superior</th>\n",
       "      <td>1026299</td>\n",
       "      <td>32051</td>\n",
       "      <td>20000</td>\n",
       "      <td>25000</td>\n",
       "      <td>26000</td>\n",
       "      <td>39000</td>\n",
       "      <td>81000</td>\n",
       "      <td>10613</td>\n",
       "    </tr>\n",
       "    <tr>\n",
       "      <th>codigo_organo</th>\n",
       "      <td>1026299</td>\n",
       "      <td>31435</td>\n",
       "      <td>20101</td>\n",
       "      <td>25201</td>\n",
       "      <td>26298</td>\n",
       "      <td>36000</td>\n",
       "      <td>91214</td>\n",
       "      <td>10383</td>\n",
       "    </tr>\n",
       "    <tr>\n",
       "      <th>codigo_unidad_gestora</th>\n",
       "      <td>1026299</td>\n",
       "      <td>231294</td>\n",
       "      <td>110005</td>\n",
       "      <td>154003</td>\n",
       "      <td>170013</td>\n",
       "      <td>250088</td>\n",
       "      <td>913001</td>\n",
       "      <td>144178</td>\n",
       "    </tr>\n",
       "    <tr>\n",
       "      <th>valor_previsto_actualizado</th>\n",
       "      <td>1026299</td>\n",
       "      <td>27611421</td>\n",
       "      <td>-214773743</td>\n",
       "      <td>0</td>\n",
       "      <td>0</td>\n",
       "      <td>0</td>\n",
       "      <td>1603521711208</td>\n",
       "      <td>3393367175</td>\n",
       "    </tr>\n",
       "    <tr>\n",
       "      <th>valor_lanzado</th>\n",
       "      <td>1026299</td>\n",
       "      <td>5242806</td>\n",
       "      <td>-148347267247</td>\n",
       "      <td>0</td>\n",
       "      <td>0</td>\n",
       "      <td>0</td>\n",
       "      <td>357160677864</td>\n",
       "      <td>810883695</td>\n",
       "    </tr>\n",
       "    <tr>\n",
       "      <th>valor_realizado</th>\n",
       "      <td>1026299</td>\n",
       "      <td>24980422</td>\n",
       "      <td>-156285934188</td>\n",
       "      <td>261</td>\n",
       "      <td>3022</td>\n",
       "      <td>40854</td>\n",
       "      <td>771117711061</td>\n",
       "      <td>1406892549</td>\n",
       "    </tr>\n",
       "    <tr>\n",
       "      <th>porcentaje_realizado</th>\n",
       "      <td>1026299</td>\n",
       "      <td>80</td>\n",
       "      <td>-114552</td>\n",
       "      <td>0</td>\n",
       "      <td>0</td>\n",
       "      <td>0</td>\n",
       "      <td>72363772</td>\n",
       "      <td>71481</td>\n",
       "    </tr>\n",
       "    <tr>\n",
       "      <th>fecha_lanzamiento</th>\n",
       "      <td>1026299</td>\n",
       "      <td>2018-09-20 14:26:19.799259392</td>\n",
       "      <td>2013-12-31 00:00:00</td>\n",
       "      <td>2017-03-31 00:00:00</td>\n",
       "      <td>2018-08-27 00:00:00</td>\n",
       "      <td>2020-02-12 00:00:00</td>\n",
       "      <td>2021-12-03 00:00:00</td>\n",
       "      <td>NaN</td>\n",
       "    </tr>\n",
       "    <tr>\n",
       "      <th>ano_ejercicio</th>\n",
       "      <td>1026299</td>\n",
       "      <td>2018</td>\n",
       "      <td>2013</td>\n",
       "      <td>2017</td>\n",
       "      <td>2018</td>\n",
       "      <td>2020</td>\n",
       "      <td>2021</td>\n",
       "      <td>2</td>\n",
       "    </tr>\n",
       "  </tbody>\n",
       "</table>\n",
       "</div>"
      ],
      "text/plain": [
       "                              count                           mean  \\\n",
       "codigo_organo_superior      1026299                          32051   \n",
       "codigo_organo               1026299                          31435   \n",
       "codigo_unidad_gestora       1026299                         231294   \n",
       "valor_previsto_actualizado  1026299                       27611421   \n",
       "valor_lanzado               1026299                        5242806   \n",
       "valor_realizado             1026299                       24980422   \n",
       "porcentaje_realizado        1026299                             80   \n",
       "fecha_lanzamiento           1026299  2018-09-20 14:26:19.799259392   \n",
       "ano_ejercicio               1026299                           2018   \n",
       "\n",
       "                                            min                  25%  \\\n",
       "codigo_organo_superior                    20000                25000   \n",
       "codigo_organo                             20101                25201   \n",
       "codigo_unidad_gestora                    110005               154003   \n",
       "valor_previsto_actualizado           -214773743                    0   \n",
       "valor_lanzado                     -148347267247                    0   \n",
       "valor_realizado                   -156285934188                  261   \n",
       "porcentaje_realizado                    -114552                    0   \n",
       "fecha_lanzamiento           2013-12-31 00:00:00  2017-03-31 00:00:00   \n",
       "ano_ejercicio                              2013                 2017   \n",
       "\n",
       "                                            50%                  75%  \\\n",
       "codigo_organo_superior                    26000                39000   \n",
       "codigo_organo                             26298                36000   \n",
       "codigo_unidad_gestora                    170013               250088   \n",
       "valor_previsto_actualizado                    0                    0   \n",
       "valor_lanzado                                 0                    0   \n",
       "valor_realizado                            3022                40854   \n",
       "porcentaje_realizado                          0                    0   \n",
       "fecha_lanzamiento           2018-08-27 00:00:00  2020-02-12 00:00:00   \n",
       "ano_ejercicio                              2018                 2020   \n",
       "\n",
       "                                            max        std  \n",
       "codigo_organo_superior                    81000      10613  \n",
       "codigo_organo                             91214      10383  \n",
       "codigo_unidad_gestora                    913001     144178  \n",
       "valor_previsto_actualizado        1603521711208 3393367175  \n",
       "valor_lanzado                      357160677864  810883695  \n",
       "valor_realizado                    771117711061 1406892549  \n",
       "porcentaje_realizado                   72363772      71481  \n",
       "fecha_lanzamiento           2021-12-03 00:00:00        NaN  \n",
       "ano_ejercicio                              2021          2  "
      ]
     },
     "execution_count": 67,
     "metadata": {},
     "output_type": "execute_result"
    }
   ],
   "source": [
    "df_final.describe().T"
   ]
  },
  {
   "cell_type": "code",
   "execution_count": 68,
   "metadata": {},
   "outputs": [
    {
     "data": {
      "text/html": [
       "<div>\n",
       "<style scoped>\n",
       "    .dataframe tbody tr th:only-of-type {\n",
       "        vertical-align: middle;\n",
       "    }\n",
       "\n",
       "    .dataframe tbody tr th {\n",
       "        vertical-align: top;\n",
       "    }\n",
       "\n",
       "    .dataframe thead th {\n",
       "        text-align: right;\n",
       "    }\n",
       "</style>\n",
       "<table border=\"1\" class=\"dataframe\">\n",
       "  <thead>\n",
       "    <tr style=\"text-align: right;\">\n",
       "      <th></th>\n",
       "      <th>count</th>\n",
       "      <th>unique</th>\n",
       "      <th>top</th>\n",
       "      <th>freq</th>\n",
       "    </tr>\n",
       "  </thead>\n",
       "  <tbody>\n",
       "    <tr>\n",
       "      <th>nombre_organo_superior</th>\n",
       "      <td>1026299</td>\n",
       "      <td>25</td>\n",
       "      <td>Ministério da Educação</td>\n",
       "      <td>361891</td>\n",
       "    </tr>\n",
       "    <tr>\n",
       "      <th>nombre_organo</th>\n",
       "      <td>1026299</td>\n",
       "      <td>287</td>\n",
       "      <td>Ministério da Economia - Unidades com vínculo ...</td>\n",
       "      <td>119811</td>\n",
       "    </tr>\n",
       "    <tr>\n",
       "      <th>nombre_unidad_gestora</th>\n",
       "      <td>1026299</td>\n",
       "      <td>356</td>\n",
       "      <td>SETORIAL ORCAMENTARIA E FINANCEIRA / ME</td>\n",
       "      <td>108481</td>\n",
       "    </tr>\n",
       "    <tr>\n",
       "      <th>categoria_economica</th>\n",
       "      <td>1026299</td>\n",
       "      <td>5</td>\n",
       "      <td>Receitas Correntes</td>\n",
       "      <td>979596</td>\n",
       "    </tr>\n",
       "    <tr>\n",
       "      <th>origen_ingreso</th>\n",
       "      <td>1026299</td>\n",
       "      <td>15</td>\n",
       "      <td>Outras Receitas Correntes</td>\n",
       "      <td>322907</td>\n",
       "    </tr>\n",
       "    <tr>\n",
       "      <th>especie_ingreso</th>\n",
       "      <td>1026299</td>\n",
       "      <td>63</td>\n",
       "      <td>Serviços Administrativos e Comerciais Gerais</td>\n",
       "      <td>278157</td>\n",
       "    </tr>\n",
       "    <tr>\n",
       "      <th>detallamiento</th>\n",
       "      <td>1026299</td>\n",
       "      <td>1886</td>\n",
       "      <td>SERV.ADMINISTRAT.E COMERCIAIS GERAIS-PRINC.</td>\n",
       "      <td>159039</td>\n",
       "    </tr>\n",
       "  </tbody>\n",
       "</table>\n",
       "</div>"
      ],
      "text/plain": [
       "                          count unique  \\\n",
       "nombre_organo_superior  1026299     25   \n",
       "nombre_organo           1026299    287   \n",
       "nombre_unidad_gestora   1026299    356   \n",
       "categoria_economica     1026299      5   \n",
       "origen_ingreso          1026299     15   \n",
       "especie_ingreso         1026299     63   \n",
       "detallamiento           1026299   1886   \n",
       "\n",
       "                                                                      top  \\\n",
       "nombre_organo_superior                             Ministério da Educação   \n",
       "nombre_organo           Ministério da Economia - Unidades com vínculo ...   \n",
       "nombre_unidad_gestora             SETORIAL ORCAMENTARIA E FINANCEIRA / ME   \n",
       "categoria_economica                                    Receitas Correntes   \n",
       "origen_ingreso                                  Outras Receitas Correntes   \n",
       "especie_ingreso              Serviços Administrativos e Comerciais Gerais   \n",
       "detallamiento                 SERV.ADMINISTRAT.E COMERCIAIS GERAIS-PRINC.   \n",
       "\n",
       "                          freq  \n",
       "nombre_organo_superior  361891  \n",
       "nombre_organo           119811  \n",
       "nombre_unidad_gestora   108481  \n",
       "categoria_economica     979596  \n",
       "origen_ingreso          322907  \n",
       "especie_ingreso         278157  \n",
       "detallamiento           159039  "
      ]
     },
     "execution_count": 68,
     "metadata": {},
     "output_type": "execute_result"
    }
   ],
   "source": [
    "df_final.describe(include=object).T"
   ]
  },
  {
   "cell_type": "code",
   "execution_count": 69,
   "metadata": {},
   "outputs": [
    {
     "data": {
      "text/plain": [
       "array(['Receitas Correntes', 'Receitas de Capital',\n",
       "       'Receitas Correntes - intra-orçamentárias', 'Sem informação',\n",
       "       'Receitas de Capital - intra-orçamentárias'], dtype=object)"
      ]
     },
     "execution_count": 69,
     "metadata": {},
     "output_type": "execute_result"
    }
   ],
   "source": [
    "df_final['categoria_economica'].unique()"
   ]
  },
  {
   "cell_type": "code",
   "execution_count": 70,
   "metadata": {},
   "outputs": [
    {
     "data": {
      "text/plain": [
       "array(['Outras Receitas Correntes', 'Receita de Serviços',\n",
       "       'Transferências de Capital', 'Alienação de Bens',\n",
       "       'Receita Agropecuária', 'Transferências Correntes',\n",
       "       'Receita Patrimonial', 'Operações de Crédito',\n",
       "       'Impostos, Taxas e Contribuições de Melhoria',\n",
       "       'Amortizações de Empréstimos', 'Contribuições',\n",
       "       'Receita Industrial', 'Outras Receitas de Capital',\n",
       "       'Receitas Correntes - a classificar', 'Sem informação'],\n",
       "      dtype=object)"
      ]
     },
     "execution_count": 70,
     "metadata": {},
     "output_type": "execute_result"
    }
   ],
   "source": [
    "df_final['origen_ingreso'].unique()"
   ]
  },
  {
   "cell_type": "code",
   "execution_count": 71,
   "metadata": {},
   "outputs": [
    {
     "data": {
      "text/plain": [
       "np.int64(0)"
      ]
     },
     "execution_count": 71,
     "metadata": {},
     "output_type": "execute_result"
    }
   ],
   "source": [
    "df_final.duplicated().sum()"
   ]
  },
  {
   "cell_type": "code",
   "execution_count": 72,
   "metadata": {},
   "outputs": [
    {
     "data": {
      "text/plain": [
       "nombre_organo_superior\n",
       "Advocacia-Geral da União                             334962977\n",
       "Controladoria-Geral da União                           7555037\n",
       "Ministério da Agricultura, Pecuária e Abastec      56433953381\n",
       "Ministério da Cidadania                             5143388129\n",
       "Ministério da Ciência, Tecnologia, Inovações       34791131894\n",
       "Ministério da Defesa                              104665740966\n",
       "Ministério da Economia                          24709753338137\n",
       "Ministério da Educação                            221589353643\n",
       "Ministério da Infraestrutura                      136206900382\n",
       "Ministério da Justiça e Segurança Pública          25219154299\n",
       "Ministério da Mulher, Família e Direitos Huma        211689153\n",
       "Ministério da Pesca e Aquicultura                     57749318\n",
       "Ministério da Previdência Social                      14240784\n",
       "Ministério da Saúde                                37786245893\n",
       "Ministério das Comunicações                        40047759133\n",
       "Ministério das Mulheres, Igualdade Racial, da        136845775\n",
       "Ministério das Relações Exteriores                  2931914529\n",
       "Ministério de Minas e Energia                     191485924485\n",
       "Ministério do Desenvolvimento Agrário                514953671\n",
       "Ministério do Desenvolvimento Regional             19356487150\n",
       "Ministério do Esporte                                 53896238\n",
       "Ministério do Meio Ambiente                         7127409731\n",
       "Ministério do Trabalho e Emprego                   13484362952\n",
       "Ministério do Turismo                              13535637878\n",
       "Presidência da República                           16491839912\n",
       "Name: valor_realizado, dtype: float64"
      ]
     },
     "execution_count": 72,
     "metadata": {},
     "output_type": "execute_result"
    }
   ],
   "source": [
    "df_final.groupby('nombre_organo_superior')['valor_realizado'].sum()"
   ]
  },
  {
   "cell_type": "code",
   "execution_count": 73,
   "metadata": {},
   "outputs": [
    {
     "data": {
      "text/plain": [
       "categoria_economica\n",
       "Receitas Correntes                          12909343128909\n",
       "Receitas Correntes - intra-orçamentárias      292651790700\n",
       "Receitas de Capital                         12407136680066\n",
       "Receitas de Capital - intra-orçamentárias      28250835724\n",
       "Sem informação                                          47\n",
       "Name: valor_realizado, dtype: float64"
      ]
     },
     "execution_count": 73,
     "metadata": {},
     "output_type": "execute_result"
    }
   ],
   "source": [
    "df_final.groupby('categoria_economica')['valor_realizado'].sum()"
   ]
  },
  {
   "cell_type": "code",
   "execution_count": 74,
   "metadata": {},
   "outputs": [
    {
     "data": {
      "text/html": [
       "<div>\n",
       "<style scoped>\n",
       "    .dataframe tbody tr th:only-of-type {\n",
       "        vertical-align: middle;\n",
       "    }\n",
       "\n",
       "    .dataframe tbody tr th {\n",
       "        vertical-align: top;\n",
       "    }\n",
       "\n",
       "    .dataframe thead th {\n",
       "        text-align: right;\n",
       "    }\n",
       "</style>\n",
       "<table border=\"1\" class=\"dataframe\">\n",
       "  <thead>\n",
       "    <tr style=\"text-align: right;\">\n",
       "      <th></th>\n",
       "      <th>valor_previsto_actualizado</th>\n",
       "      <th>valor_realizado</th>\n",
       "    </tr>\n",
       "    <tr>\n",
       "      <th>categoria_economica</th>\n",
       "      <th></th>\n",
       "      <th></th>\n",
       "    </tr>\n",
       "  </thead>\n",
       "  <tbody>\n",
       "    <tr>\n",
       "      <th>Receitas Correntes</th>\n",
       "      <td>13549526943206</td>\n",
       "      <td>12909343128909</td>\n",
       "    </tr>\n",
       "    <tr>\n",
       "      <th>Receitas Correntes - intra-orçamentárias</th>\n",
       "      <td>291485025919</td>\n",
       "      <td>292651790700</td>\n",
       "    </tr>\n",
       "    <tr>\n",
       "      <th>Receitas de Capital</th>\n",
       "      <td>14485753431207</td>\n",
       "      <td>12407136680066</td>\n",
       "    </tr>\n",
       "    <tr>\n",
       "      <th>Receitas de Capital - intra-orçamentárias</th>\n",
       "      <td>10808411537</td>\n",
       "      <td>28250835724</td>\n",
       "    </tr>\n",
       "    <tr>\n",
       "      <th>Sem informação</th>\n",
       "      <td>0</td>\n",
       "      <td>47</td>\n",
       "    </tr>\n",
       "  </tbody>\n",
       "</table>\n",
       "</div>"
      ],
      "text/plain": [
       "                                           valor_previsto_actualizado  \\\n",
       "categoria_economica                                                     \n",
       "Receitas Correntes                                     13549526943206   \n",
       "Receitas Correntes - intra-orçamentárias                 291485025919   \n",
       "Receitas de Capital                                    14485753431207   \n",
       "Receitas de Capital - intra-orçamentárias                 10808411537   \n",
       "Sem informação                                                      0   \n",
       "\n",
       "                                           valor_realizado  \n",
       "categoria_economica                                         \n",
       "Receitas Correntes                          12909343128909  \n",
       "Receitas Correntes - intra-orçamentárias      292651790700  \n",
       "Receitas de Capital                         12407136680066  \n",
       "Receitas de Capital - intra-orçamentárias      28250835724  \n",
       "Sem informação                                          47  "
      ]
     },
     "execution_count": 74,
     "metadata": {},
     "output_type": "execute_result"
    }
   ],
   "source": [
    "df_final.groupby('categoria_economica')[[ 'valor_previsto_actualizado','valor_realizado']].sum()"
   ]
  },
  {
   "cell_type": "code",
   "execution_count": 75,
   "metadata": {},
   "outputs": [
    {
     "data": {
      "text/plain": [
       "ano_ejercicio\n",
       "2013   1893613719100\n",
       "2014   2238551079328\n",
       "2015   2665685375159\n",
       "2016   2839711583463\n",
       "2017   2558047412867\n",
       "2018   2942387872874\n",
       "2019   2991564738258\n",
       "2020   3631448629524\n",
       "2021   3876372024873\n",
       "Name: valor_realizado, dtype: float64"
      ]
     },
     "execution_count": 75,
     "metadata": {},
     "output_type": "execute_result"
    }
   ],
   "source": [
    "df_final.groupby('ano_ejercicio')['valor_realizado'].sum()"
   ]
  },
  {
   "cell_type": "code",
   "execution_count": 82,
   "metadata": {},
   "outputs": [],
   "source": [
    "ano_realizado = pd.DataFrame(df_final.groupby('ano_ejercicio')['valor_realizado'].sum())"
   ]
  },
  {
   "cell_type": "code",
   "execution_count": 83,
   "metadata": {},
   "outputs": [
    {
     "data": {
      "text/html": [
       "<div>\n",
       "<style scoped>\n",
       "    .dataframe tbody tr th:only-of-type {\n",
       "        vertical-align: middle;\n",
       "    }\n",
       "\n",
       "    .dataframe tbody tr th {\n",
       "        vertical-align: top;\n",
       "    }\n",
       "\n",
       "    .dataframe thead th {\n",
       "        text-align: right;\n",
       "    }\n",
       "</style>\n",
       "<table border=\"1\" class=\"dataframe\">\n",
       "  <thead>\n",
       "    <tr style=\"text-align: right;\">\n",
       "      <th></th>\n",
       "      <th>valor_realizado</th>\n",
       "    </tr>\n",
       "    <tr>\n",
       "      <th>ano_ejercicio</th>\n",
       "      <th></th>\n",
       "    </tr>\n",
       "  </thead>\n",
       "  <tbody>\n",
       "    <tr>\n",
       "      <th>2013</th>\n",
       "      <td>1893613719100</td>\n",
       "    </tr>\n",
       "    <tr>\n",
       "      <th>2014</th>\n",
       "      <td>2238551079328</td>\n",
       "    </tr>\n",
       "    <tr>\n",
       "      <th>2015</th>\n",
       "      <td>2665685375159</td>\n",
       "    </tr>\n",
       "    <tr>\n",
       "      <th>2016</th>\n",
       "      <td>2839711583463</td>\n",
       "    </tr>\n",
       "    <tr>\n",
       "      <th>2017</th>\n",
       "      <td>2558047412867</td>\n",
       "    </tr>\n",
       "    <tr>\n",
       "      <th>2018</th>\n",
       "      <td>2942387872874</td>\n",
       "    </tr>\n",
       "    <tr>\n",
       "      <th>2019</th>\n",
       "      <td>2991564738258</td>\n",
       "    </tr>\n",
       "    <tr>\n",
       "      <th>2020</th>\n",
       "      <td>3631448629524</td>\n",
       "    </tr>\n",
       "    <tr>\n",
       "      <th>2021</th>\n",
       "      <td>3876372024873</td>\n",
       "    </tr>\n",
       "  </tbody>\n",
       "</table>\n",
       "</div>"
      ],
      "text/plain": [
       "               valor_realizado\n",
       "ano_ejercicio                 \n",
       "2013             1893613719100\n",
       "2014             2238551079328\n",
       "2015             2665685375159\n",
       "2016             2839711583463\n",
       "2017             2558047412867\n",
       "2018             2942387872874\n",
       "2019             2991564738258\n",
       "2020             3631448629524\n",
       "2021             3876372024873"
      ]
     },
     "execution_count": 83,
     "metadata": {},
     "output_type": "execute_result"
    }
   ],
   "source": [
    "ano_realizado"
   ]
  },
  {
   "cell_type": "code",
   "execution_count": 84,
   "metadata": {},
   "outputs": [
    {
     "data": {
      "text/plain": [
       "<Axes: xlabel='ano_ejercicio', ylabel='valor_realizado'>"
      ]
     },
     "execution_count": 84,
     "metadata": {},
     "output_type": "execute_result"
    },
    {
     "data": {
      "image/png": "[encoded data removed]",
      "text/plain": [
       "<Figure size 640x480 with 1 Axes>"
      ]
     },
     "metadata": {},
     "output_type": "display_data"
    }
   ],
   "source": [
    "sns.barplot(x='ano_ejercicio',\n",
    "             y='valor_realizado',\n",
    "             data=ano_realizado,\n",
    "             color='tomato')"
   ]
  },
  {
   "cell_type": "code",
   "execution_count": 85,
   "metadata": {},
   "outputs": [],
   "source": [
    "ano_previsto = pd.DataFrame(df_final.groupby('ano_ejercicio')['valor_previsto_actualizado'].sum())"
   ]
  },
  {
   "cell_type": "code",
   "execution_count": 86,
   "metadata": {},
   "outputs": [
    {
     "data": {
      "text/plain": [
       "<Axes: xlabel='ano_ejercicio', ylabel='valor_previsto_actualizado'>"
      ]
     },
     "execution_count": 86,
     "metadata": {},
     "output_type": "execute_result"
    },
    {
     "data": {
      "image/png": "[encoded data removed]",
      "text/plain": [
       "<Figure size 640x480 with 1 Axes>"
      ]
     },
     "metadata": {},
     "output_type": "display_data"
    }
   ],
   "source": [
    "sns.barplot(x='ano_ejercicio',\n",
    "             y='valor_previsto_actualizado',\n",
    "             data=ano_previsto,\n",
    "             color='tomato')"
   ]
  },
  {
   "cell_type": "code",
   "execution_count": 87,
   "metadata": {},
   "outputs": [],
   "source": [
    "ano_lanzado = pd.DataFrame(df_final.groupby('ano_ejercicio')['valor_lanzado'].sum())"
   ]
  },
  {
   "cell_type": "code",
   "execution_count": 88,
   "metadata": {},
   "outputs": [
    {
     "data": {
      "text/plain": [
       "<Axes: xlabel='ano_ejercicio', ylabel='valor_lanzado'>"
      ]
     },
     "execution_count": 88,
     "metadata": {},
     "output_type": "execute_result"
    },
    {
     "data": {
      "image/png": "[encoded data removed]",
      "text/plain": [
       "<Figure size 640x480 with 1 Axes>"
      ]
     },
     "metadata": {},
     "output_type": "display_data"
    }
   ],
   "source": [
    "sns.barplot(x='ano_ejercicio',\n",
    "             y='valor_lanzado',\n",
    "             data=ano_lanzado,\n",
    "             color='tomato')"
   ]
  },
  {
   "cell_type": "code",
   "execution_count": 91,
   "metadata": {},
   "outputs": [],
   "source": [
    "df_anos = pd.concat([ano_previsto,ano_lanzado,ano_realizado], axis=1)"
   ]
  },
  {
   "cell_type": "code",
   "execution_count": 92,
   "metadata": {},
   "outputs": [
    {
     "data": {
      "text/html": [
       "<div>\n",
       "<style scoped>\n",
       "    .dataframe tbody tr th:only-of-type {\n",
       "        vertical-align: middle;\n",
       "    }\n",
       "\n",
       "    .dataframe tbody tr th {\n",
       "        vertical-align: top;\n",
       "    }\n",
       "\n",
       "    .dataframe thead th {\n",
       "        text-align: right;\n",
       "    }\n",
       "</style>\n",
       "<table border=\"1\" class=\"dataframe\">\n",
       "  <thead>\n",
       "    <tr style=\"text-align: right;\">\n",
       "      <th></th>\n",
       "      <th>valor_previsto_actualizado</th>\n",
       "      <th>valor_lanzado</th>\n",
       "      <th>valor_realizado</th>\n",
       "    </tr>\n",
       "    <tr>\n",
       "      <th>ano_ejercicio</th>\n",
       "      <th></th>\n",
       "      <th></th>\n",
       "      <th></th>\n",
       "    </tr>\n",
       "  </thead>\n",
       "  <tbody>\n",
       "    <tr>\n",
       "      <th>2013</th>\n",
       "      <td>2174650946322</td>\n",
       "      <td>1142556841624</td>\n",
       "      <td>1893613719100</td>\n",
       "    </tr>\n",
       "    <tr>\n",
       "      <th>2014</th>\n",
       "      <td>2392129226119</td>\n",
       "      <td>1266561021072</td>\n",
       "      <td>2238551079328</td>\n",
       "    </tr>\n",
       "    <tr>\n",
       "      <th>2015</th>\n",
       "      <td>2878827555614</td>\n",
       "      <td>307296621472</td>\n",
       "      <td>2665685375159</td>\n",
       "    </tr>\n",
       "    <tr>\n",
       "      <th>2016</th>\n",
       "      <td>2952696248076</td>\n",
       "      <td>325948228390</td>\n",
       "      <td>2839711583463</td>\n",
       "    </tr>\n",
       "    <tr>\n",
       "      <th>2017</th>\n",
       "      <td>3414379614682</td>\n",
       "      <td>459897488082</td>\n",
       "      <td>2558047412867</td>\n",
       "    </tr>\n",
       "    <tr>\n",
       "      <th>2018</th>\n",
       "      <td>3505648331810</td>\n",
       "      <td>468421184578</td>\n",
       "      <td>2942387872874</td>\n",
       "    </tr>\n",
       "    <tr>\n",
       "      <th>2019</th>\n",
       "      <td>3261378698948</td>\n",
       "      <td>343736377895</td>\n",
       "      <td>2991564738258</td>\n",
       "    </tr>\n",
       "    <tr>\n",
       "      <th>2020</th>\n",
       "      <td>3577146718910</td>\n",
       "      <td>706480132443</td>\n",
       "      <td>3631448629524</td>\n",
       "    </tr>\n",
       "    <tr>\n",
       "      <th>2021</th>\n",
       "      <td>4180716471388</td>\n",
       "      <td>359788769215</td>\n",
       "      <td>3876372024873</td>\n",
       "    </tr>\n",
       "  </tbody>\n",
       "</table>\n",
       "</div>"
      ],
      "text/plain": [
       "               valor_previsto_actualizado  valor_lanzado  valor_realizado\n",
       "ano_ejercicio                                                            \n",
       "2013                        2174650946322  1142556841624    1893613719100\n",
       "2014                        2392129226119  1266561021072    2238551079328\n",
       "2015                        2878827555614   307296621472    2665685375159\n",
       "2016                        2952696248076   325948228390    2839711583463\n",
       "2017                        3414379614682   459897488082    2558047412867\n",
       "2018                        3505648331810   468421184578    2942387872874\n",
       "2019                        3261378698948   343736377895    2991564738258\n",
       "2020                        3577146718910   706480132443    3631448629524\n",
       "2021                        4180716471388   359788769215    3876372024873"
      ]
     },
     "execution_count": 92,
     "metadata": {},
     "output_type": "execute_result"
    }
   ],
   "source": [
    "df_anos"
   ]
  },
  {
   "cell_type": "code",
   "execution_count": 107,
   "metadata": {},
   "outputs": [
    {
     "ename": "SyntaxError",
     "evalue": "invalid syntax (2585770153.py, line 3)",
     "output_type": "error",
     "traceback": [
      "\u001b[0;36m  Cell \u001b[0;32mIn[107], line 3\u001b[0;36m\u001b[0m\n\u001b[0;31m    data = df_anos,\u001b[0m\n\u001b[0m    ^\u001b[0m\n\u001b[0;31mSyntaxError\u001b[0m\u001b[0;31m:\u001b[0m invalid syntax\n"
     ]
    }
   ],
   "source": [
    "sns.histplot(x = \"ano_ejercicio\",\n",
    "             y='valor_realizado' \n",
    "             data = df_anos, \n",
    "             color = \"violet\", \n",
    "             hue = \"valor_previsto_actualizado\", \n",
    "             palette= \"cubehelix\",\n",
    "             kde = True, \n",
    "             bins = 9 )"
   ]
  },
  {
   "cell_type": "code",
   "execution_count": null,
   "metadata": {},
   "outputs": [],
   "source": []
  }
 ],
 "metadata": {
  "kernelspec": {
   "display_name": "Python 3",
   "language": "python",
   "name": "python3"
  },
  "language_info": {
   "codemirror_mode": {
    "name": "ipython",
    "version": 3
   },
   "file_extension": ".py",
   "mimetype": "text/x-python",
   "name": "python",
   "nbconvert_exporter": "python",
   "pygments_lexer": "ipython3",
   "version": "3.9.6"
  }
 },
 "nbformat": 4,
 "nbformat_minor": 2
}
